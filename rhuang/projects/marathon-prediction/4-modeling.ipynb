{
 "cells": [
  {
   "cell_type": "markdown",
   "id": "654ba48a-da9e-408e-9eb8-a5b0fc43083f",
   "metadata": {},
   "source": [
    "## Feature selection\n",
    "\n",
    "### Mutiple Regression\n",
    "\n",
    "Multiple regression analysiswas used to analyze,simultaneously,the effects of two or more variables on marathon performance. Multiple regression analysiswas used to analyze,simultaneously,the effects of two or more variables on marathon performance. The output of such an analysis is a linear equation that can be used to predict final time.[3]\n",
    "\n",
    "### F-test\n",
    "\n",
    "## Evaluate performance\n",
    "\n",
    "### Confusion matrix\n",
    "\n",
    "### Using Filter and Wrapper for feature selection\n",
    "\n",
    "Filter Type => Based on distance\n",
    "Wraper Type => Based on classifier\n",
    "\n",
    "In practice, it is a good idea to run both types to evaluate what are the good features.\n",
    "\n",
    "\n",
    "\n",
    "### Feature ranking\n",
    "\n",
    "* Entropy\n",
    "* Gain Ratio\n",
    "* Information Gain\n",
    "* Chi-square\n",
    "* SVM ranker\n",
    "\n",
    "Not always work since it does not account fore feature dependence. But combined effort with forward selection could be a good approach.\n",
    "\n",
    "First, ranking the top X features\n",
    "Then, apply foward selection algorithms to the top X features"
   ]
  },
  {
   "cell_type": "code",
   "execution_count": null,
   "id": "ddeade7b-93b4-4810-8ab4-756b5a62e36f",
   "metadata": {},
   "outputs": [],
   "source": []
  }
 ],
 "metadata": {
  "kernelspec": {
   "display_name": "Python 3",
   "language": "python",
   "name": "python3"
  },
  "language_info": {
   "codemirror_mode": {
    "name": "ipython",
    "version": 3
   },
   "file_extension": ".py",
   "mimetype": "text/x-python",
   "name": "python",
   "nbconvert_exporter": "python",
   "pygments_lexer": "ipython3",
   "version": "3.8.10"
  }
 },
 "nbformat": 4,
 "nbformat_minor": 5
}
